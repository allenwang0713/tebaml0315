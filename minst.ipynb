{
  "nbformat": 4,
  "nbformat_minor": 0,
  "metadata": {
    "colab": {
      "provenance": [],
      "authorship_tag": "ABX9TyMR5posc0bSx/6ZHm6B6iw0",
      "include_colab_link": true
    },
    "kernelspec": {
      "name": "python3",
      "display_name": "Python 3"
    },
    "language_info": {
      "name": "python"
    }
  },
  "cells": [
    {
      "cell_type": "markdown",
      "metadata": {
        "id": "view-in-github",
        "colab_type": "text"
      },
      "source": [
        "<a href=\"https://colab.research.google.com/github/allenwang0713/tebaml0315/blob/main/minst.ipynb\" target=\"_parent\"><img src=\"https://colab.research.google.com/assets/colab-badge.svg\" alt=\"Open In Colab\"/></a>"
      ]
    },
    {
      "cell_type": "code",
      "execution_count": null,
      "metadata": {
        "id": "sgqG9xjwBp4Y"
      },
      "outputs": [],
      "source": [
        "from tensorflow.keras.datasets import mnist\n",
        "# ((x_train, y_train), (x_test, y_test))\n",
        "(x_train, y_train), (x_test, y_test) = mnist.load_data()"
      ]
    },
    {
      "cell_type": "code",
      "source": [
        "print(x_train.shape)\n",
        "print(x_test.shape)\n",
        "print(y_train.shape)\n",
        "print(y_test.shape)"
      ],
      "metadata": {
        "colab": {
          "base_uri": "https://localhost:8080/"
        },
        "id": "xUTnxCPfCIL9",
        "outputId": "32179e08-0a23-400e-a8c4-e99408d01f08"
      },
      "execution_count": null,
      "outputs": [
        {
          "output_type": "stream",
          "name": "stdout",
          "text": [
            "(60000, 28, 28)\n",
            "(10000, 28, 28)\n",
            "(60000,)\n",
            "(10000,)\n"
          ]
        }
      ]
    },
    {
      "cell_type": "code",
      "source": [
        "# colormap: https://matplotlib.org/stable/tutorials/colors/colormaps.html\n",
        "# reverse: _r\n",
        "import pandas as pd\n",
        "import matplotlib.pyplot as plt\n",
        "\n",
        "# 灰階圖片(0: 黑色 255: 白色)\n",
        "pd.DataFrame(x_train[0])\n",
        "plt.imshow(x_train[0], cmap=\"gray\")"
      ],
      "metadata": {
        "id": "s3Wkf2QeCTus",
        "outputId": "83f4982b-2d7e-48ac-d9e5-a81e5adda7a6",
        "colab": {
          "base_uri": "https://localhost:8080/",
          "height": 447
        }
      },
      "execution_count": null,
      "outputs": [
        {
          "output_type": "execute_result",
          "data": {
            "text/plain": [
              "<matplotlib.image.AxesImage at 0x7ff2d83fee20>"
            ]
          },
          "metadata": {},
          "execution_count": 8
        },
        {
          "output_type": "display_data",
          "data": {
            "text/plain": [
              "<Figure size 640x480 with 1 Axes>"
            ],
            "image/png": "[encoded data removed]"
          },
          "metadata": {}
        }
      ]
    },
    {
      "cell_type": "code",
      "source": [
        "# models(地基): Sequential(一層疊一層) Model(自由疊層)\n",
        "# layers: Dense(全連接層)\n",
        "from tensorflow.keras.models import Sequential\n",
        "from tensorflow.keras.layers import Dense\n",
        "layers = [\n",
        "    Dense(128, activation=\"sigmoid\", input_dim=784),\n",
        "    Dense(10, activation=\"sigmoid\")\n",
        "]\n",
        "model = Sequential(layers)\n",
        "model.summary()"
      ],
      "metadata": {
        "colab": {
          "base_uri": "https://localhost:8080/"
        },
        "id": "IzXfUTzguz5R",
        "outputId": "dc5f32bb-f190-4866-8c49-316c1870a9ba"
      },
      "execution_count": null,
      "outputs": [
        {
          "output_type": "stream",
          "name": "stdout",
          "text": [
            "Model: \"sequential_2\"\n",
            "_________________________________________________________________\n",
            " Layer (type)                Output Shape              Param #   \n",
            "=================================================================\n",
            " dense_4 (Dense)             (None, 128)               100480    \n",
            "                                                                 \n",
            " dense_5 (Dense)             (None, 10)                1290      \n",
            "                                                                 \n",
            "=================================================================\n",
            "Total params: 101,770\n",
            "Trainable params: 101,770\n",
            "Non-trainable params: 0\n",
            "_________________________________________________________________\n"
          ]
        }
      ]
    },
    {
      "cell_type": "code",
      "source": [
        "model.compile(loss=\"mse\", metrics=[\"accuracy\"])"
      ],
      "metadata": {
        "id": "rsAxwsd1-jGs"
      },
      "execution_count": null,
      "outputs": []
    },
    {
      "cell_type": "code",
      "source": [
        "# y\n",
        "from tensorflow.keras.utils import to_categorical\n",
        "y_train_cat = to_categorical(y_train, num_classes=10)\n",
        "y_test_cat = to_categorical(y_test, num_classes=10)\n",
        "print(y_train[0])\n",
        "print(y_train_cat[0])"
      ],
      "metadata": {
        "colab": {
          "base_uri": "https://localhost:8080/"
        },
        "id": "_RD-aeWc-uYC",
        "outputId": "400bb7e8-82e1-4a17-b1c0-91f418de5345"
      },
      "execution_count": null,
      "outputs": [
        {
          "output_type": "stream",
          "name": "stdout",
          "text": [
            "5\n",
            "[0. 0. 0. 0. 0. 1. 0. 0. 0. 0.]\n"
          ]
        }
      ]
    },
    {
      "cell_type": "code",
      "source": [
        "import numpy as np\n",
        "# tensorflow建議: x(0~1) x(-1~1)\n",
        "# tensorflow隨機的weight有配合\n",
        "# reshape你可以把一個位置替換成-1(讓他自己算)\n",
        "# x_train.reshape(60000, 784)\n",
        "x_train_norm = x_train.reshape(-1, 784)\n",
        "x_test_norm = x_test.reshape(-1, 784)\n",
        "print(x_train_norm.shape)\n",
        "print(x_test_norm.shape)"
      ],
      "metadata": {
        "colab": {
          "base_uri": "https://localhost:8080/"
        },
        "id": "6YuZZ2Bk_JeY",
        "outputId": "93b228b3-fbee-4734-f235-63bb45b04336"
      },
      "execution_count": null,
      "outputs": [
        {
          "output_type": "stream",
          "name": "stdout",
          "text": [
            "(60000, 784)\n",
            "(10000, 784)\n"
          ]
        }
      ]
    },
    {
      "cell_type": "code",
      "source": [
        "# epochs: 決定要把整份資料看過幾輪\n",
        "# 絕對不是越多越好, 越多越過擬和, 反而導致現實資料錯更多\n",
        "# validation_split: 擬要切出一部分不給模型看, 來驗證這組參數表現得如何\n",
        "# 一輪: 54000(90%) / 100 -> 540\n",
        "# 10 epochs: 540 * 10\n",
        "model.fit(x_train_norm,\n",
        "     y_train_cat,\n",
        "     batch_size=100,\n",
        "     epochs=40,\n",
        "     validation_split=0.1)"
      ],
      "metadata": {
        "colab": {
          "base_uri": "https://localhost:8080/"
        },
        "id": "gPiB83wD-2KB",
        "outputId": "d3f7c8c4-c53d-4511-c790-77335ce08b4e"
      },
      "execution_count": null,
      "outputs": [
        {
          "output_type": "stream",
          "name": "stdout",
          "text": [
            "Epoch 1/40\n",
            "540/540 [==============================] - 3s 5ms/step - loss: 0.0329 - accuracy: 0.8231 - val_loss: 0.0160 - val_accuracy: 0.9188\n",
            "Epoch 2/40\n",
            "540/540 [==============================] - 2s 5ms/step - loss: 0.0167 - accuracy: 0.9082 - val_loss: 0.0122 - val_accuracy: 0.9352\n",
            "Epoch 3/40\n",
            "540/540 [==============================] - 3s 5ms/step - loss: 0.0143 - accuracy: 0.9177 - val_loss: 0.0111 - val_accuracy: 0.9360\n",
            "Epoch 4/40\n",
            "540/540 [==============================] - 3s 6ms/step - loss: 0.0128 - accuracy: 0.9258 - val_loss: 0.0101 - val_accuracy: 0.9415\n",
            "Epoch 5/40\n",
            "540/540 [==============================] - 2s 5ms/step - loss: 0.0119 - accuracy: 0.9305 - val_loss: 0.0096 - val_accuracy: 0.9473\n",
            "Epoch 6/40\n",
            "540/540 [==============================] - 2s 4ms/step - loss: 0.0114 - accuracy: 0.9337 - val_loss: 0.0091 - val_accuracy: 0.9497\n",
            "Epoch 7/40\n",
            "540/540 [==============================] - 2s 5ms/step - loss: 0.0107 - accuracy: 0.9366 - val_loss: 0.0087 - val_accuracy: 0.9497\n",
            "Epoch 8/40\n",
            "540/540 [==============================] - 3s 5ms/step - loss: 0.0104 - accuracy: 0.9385 - val_loss: 0.0086 - val_accuracy: 0.9523\n",
            "Epoch 9/40\n",
            "540/540 [==============================] - 3s 5ms/step - loss: 0.0099 - accuracy: 0.9419 - val_loss: 0.0081 - val_accuracy: 0.9557\n",
            "Epoch 10/40\n",
            "540/540 [==============================] - 2s 4ms/step - loss: 0.0096 - accuracy: 0.9431 - val_loss: 0.0077 - val_accuracy: 0.9552\n",
            "Epoch 11/40\n",
            "540/540 [==============================] - 2s 4ms/step - loss: 0.0092 - accuracy: 0.9459 - val_loss: 0.0076 - val_accuracy: 0.9562\n",
            "Epoch 12/40\n",
            "540/540 [==============================] - 2s 4ms/step - loss: 0.0089 - accuracy: 0.9471 - val_loss: 0.0073 - val_accuracy: 0.9563\n",
            "Epoch 13/40\n",
            "540/540 [==============================] - 3s 6ms/step - loss: 0.0087 - accuracy: 0.9484 - val_loss: 0.0072 - val_accuracy: 0.9580\n",
            "Epoch 14/40\n",
            "540/540 [==============================] - 3s 5ms/step - loss: 0.0085 - accuracy: 0.9507 - val_loss: 0.0069 - val_accuracy: 0.9603\n",
            "Epoch 15/40\n",
            "540/540 [==============================] - 2s 4ms/step - loss: 0.0083 - accuracy: 0.9512 - val_loss: 0.0069 - val_accuracy: 0.9618\n",
            "Epoch 16/40\n",
            "540/540 [==============================] - 3s 5ms/step - loss: 0.0080 - accuracy: 0.9533 - val_loss: 0.0068 - val_accuracy: 0.9602\n",
            "Epoch 17/40\n",
            "540/540 [==============================] - 2s 4ms/step - loss: 0.0078 - accuracy: 0.9546 - val_loss: 0.0068 - val_accuracy: 0.9617\n",
            "Epoch 18/40\n",
            "540/540 [==============================] - 5s 9ms/step - loss: 0.0078 - accuracy: 0.9555 - val_loss: 0.0066 - val_accuracy: 0.9613\n",
            "Epoch 19/40\n",
            "540/540 [==============================] - 2s 4ms/step - loss: 0.0076 - accuracy: 0.9554 - val_loss: 0.0065 - val_accuracy: 0.9625\n",
            "Epoch 20/40\n",
            "540/540 [==============================] - 2s 4ms/step - loss: 0.0075 - accuracy: 0.9566 - val_loss: 0.0065 - val_accuracy: 0.9618\n",
            "Epoch 21/40\n",
            "540/540 [==============================] - 2s 4ms/step - loss: 0.0073 - accuracy: 0.9574 - val_loss: 0.0062 - val_accuracy: 0.9627\n",
            "Epoch 22/40\n",
            "540/540 [==============================] - 2s 4ms/step - loss: 0.0071 - accuracy: 0.9590 - val_loss: 0.0063 - val_accuracy: 0.9630\n",
            "Epoch 23/40\n",
            "540/540 [==============================] - 3s 6ms/step - loss: 0.0070 - accuracy: 0.9599 - val_loss: 0.0064 - val_accuracy: 0.9642\n",
            "Epoch 24/40\n",
            "540/540 [==============================] - 2s 4ms/step - loss: 0.0069 - accuracy: 0.9601 - val_loss: 0.0061 - val_accuracy: 0.9660\n",
            "Epoch 25/40\n",
            "540/540 [==============================] - 2s 5ms/step - loss: 0.0067 - accuracy: 0.9614 - val_loss: 0.0061 - val_accuracy: 0.9647\n",
            "Epoch 26/40\n",
            "540/540 [==============================] - 2s 4ms/step - loss: 0.0067 - accuracy: 0.9616 - val_loss: 0.0061 - val_accuracy: 0.9647\n",
            "Epoch 27/40\n",
            "540/540 [==============================] - 2s 4ms/step - loss: 0.0067 - accuracy: 0.9617 - val_loss: 0.0059 - val_accuracy: 0.9663\n",
            "Epoch 28/40\n",
            "540/540 [==============================] - 4s 6ms/step - loss: 0.0065 - accuracy: 0.9621 - val_loss: 0.0060 - val_accuracy: 0.9667\n",
            "Epoch 29/40\n",
            "540/540 [==============================] - 2s 4ms/step - loss: 0.0063 - accuracy: 0.9635 - val_loss: 0.0059 - val_accuracy: 0.9655\n",
            "Epoch 30/40\n",
            "540/540 [==============================] - 2s 4ms/step - loss: 0.0063 - accuracy: 0.9634 - val_loss: 0.0058 - val_accuracy: 0.9670\n",
            "Epoch 31/40\n",
            "540/540 [==============================] - 2s 4ms/step - loss: 0.0064 - accuracy: 0.9636 - val_loss: 0.0057 - val_accuracy: 0.9688\n",
            "Epoch 32/40\n",
            "540/540 [==============================] - 2s 4ms/step - loss: 0.0062 - accuracy: 0.9644 - val_loss: 0.0057 - val_accuracy: 0.9693\n",
            "Epoch 33/40\n",
            "540/540 [==============================] - 4s 7ms/step - loss: 0.0062 - accuracy: 0.9649 - val_loss: 0.0057 - val_accuracy: 0.9668\n",
            "Epoch 34/40\n",
            "540/540 [==============================] - 2s 4ms/step - loss: 0.0061 - accuracy: 0.9655 - val_loss: 0.0056 - val_accuracy: 0.9688\n",
            "Epoch 35/40\n",
            "540/540 [==============================] - 2s 5ms/step - loss: 0.0061 - accuracy: 0.9660 - val_loss: 0.0056 - val_accuracy: 0.9677\n",
            "Epoch 36/40\n",
            "540/540 [==============================] - 2s 5ms/step - loss: 0.0059 - accuracy: 0.9665 - val_loss: 0.0054 - val_accuracy: 0.9702\n",
            "Epoch 37/40\n",
            "540/540 [==============================] - 3s 5ms/step - loss: 0.0059 - accuracy: 0.9662 - val_loss: 0.0054 - val_accuracy: 0.9670\n",
            "Epoch 38/40\n",
            "540/540 [==============================] - 3s 6ms/step - loss: 0.0059 - accuracy: 0.9658 - val_loss: 0.0055 - val_accuracy: 0.9690\n",
            "Epoch 39/40\n",
            "540/540 [==============================] - 2s 4ms/step - loss: 0.0058 - accuracy: 0.9677 - val_loss: 0.0053 - val_accuracy: 0.9695\n",
            "Epoch 40/40\n",
            "540/540 [==============================] - 2s 4ms/step - loss: 0.0056 - accuracy: 0.9679 - val_loss: 0.0055 - val_accuracy: 0.9668\n"
          ]
        },
        {
          "output_type": "execute_result",
          "data": {
            "text/plain": [
              "<keras.callbacks.History at 0x7ff2d8291040>"
            ]
          },
          "metadata": {},
          "execution_count": 16
        }
      ]
    },
    {
      "cell_type": "code",
      "source": [
        "# import math\n",
        "# cases = [\n",
        "#     (0.9999, 0.0001),\n",
        "#     (0.5, 0.5),\n",
        "#     (0.0001, 0.9999),\n",
        "#     (0.6, 0.4)\n",
        "# ]\n",
        "# for q1, q2 in cases:\n",
        "#     ce = 0.6 * math.log(1/q1, 2) + 0.4 * math.log(1/q2, 2)\n",
        "#     print(q1, q2, \"->\", ce)"
      ],
      "metadata": {
        "id": "YAUk14NXbVBe"
      },
      "execution_count": null,
      "outputs": []
    }
  ]
}