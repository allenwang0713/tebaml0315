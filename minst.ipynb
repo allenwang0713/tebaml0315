{
  "nbformat": 4,
  "nbformat_minor": 0,
  "metadata": {
    "colab": {
      "provenance": [],
      "authorship_tag": "ABX9TyPr5yst96dk8ScB7NcTEmfg",
      "include_colab_link": true
    },
    "kernelspec": {
      "name": "python3",
      "display_name": "Python 3"
    },
    "language_info": {
      "name": "python"
    }
  },
  "cells": [
    {
      "cell_type": "markdown",
      "metadata": {
        "id": "view-in-github",
        "colab_type": "text"
      },
      "source": [
        "<a href=\"https://colab.research.google.com/github/allenwang0713/tebaml0315/blob/main/minst.ipynb\" target=\"_parent\"><img src=\"https://colab.research.google.com/assets/colab-badge.svg\" alt=\"Open In Colab\"/></a>"
      ]
    },
    {
      "cell_type": "code",
      "execution_count": 1,
      "metadata": {
        "id": "sgqG9xjwBp4Y",
        "colab": {
          "base_uri": "https://localhost:8080/"
        },
        "outputId": "4cbfc7dc-82b0-403c-aa8b-2e297f71140d"
      },
      "outputs": [
        {
          "output_type": "stream",
          "name": "stdout",
          "text": [
            "Downloading data from https://storage.googleapis.com/tensorflow/tf-keras-datasets/mnist.npz\n",
            "11490434/11490434 [==============================] - 0s 0us/step\n"
          ]
        }
      ],
      "source": [
        "from tensorflow.keras.datasets import mnist\n",
        "# ((x_train, y_train), (x_test, y_test))\n",
        "(x_train, y_train), (x_test, y_test) = mnist.load_data()"
      ]
    },
    {
      "cell_type": "code",
      "source": [
        "print(x_train.shape)\n",
        "print(x_test.shape)\n",
        "print(y_train.shape)\n",
        "print(y_test.shape)"
      ],
      "metadata": {
        "colab": {
          "base_uri": "https://localhost:8080/"
        },
        "id": "xUTnxCPfCIL9",
        "outputId": "523c7521-eb2e-42ed-ea0b-2d5b2917084b"
      },
      "execution_count": 2,
      "outputs": [
        {
          "output_type": "stream",
          "name": "stdout",
          "text": [
            "(60000, 28, 28)\n",
            "(10000, 28, 28)\n",
            "(60000,)\n",
            "(10000,)\n"
          ]
        }
      ]
    },
    {
      "cell_type": "code",
      "source": [
        "# colormap: https://matplotlib.org/stable/tutorials/colors/colormaps.html\n",
        "# reverse: _r\n",
        "import pandas as pd\n",
        "import matplotlib.pyplot as plt\n",
        "\n",
        "# 灰階圖片(0: 黑色 255: 白色)\n",
        "pd.DataFrame(x_train[0])\n",
        "plt.imshow(x_train[0], cmap=\"gray\")"
      ],
      "metadata": {
        "id": "s3Wkf2QeCTus",
        "outputId": "3b14df60-6f5a-47e8-ab23-ab43a247a047",
        "colab": {
          "base_uri": "https://localhost:8080/",
          "height": 447
        }
      },
      "execution_count": 3,
      "outputs": [
        {
          "output_type": "execute_result",
          "data": {
            "text/plain": [
              "<matplotlib.image.AxesImage at 0x7f17287c4bb0>"
            ]
          },
          "metadata": {},
          "execution_count": 3
        },
        {
          "output_type": "display_data",
          "data": {
            "text/plain": [
              "<Figure size 640x480 with 1 Axes>"
            ],
            "image/png": "[encoded data removed]"
          },
          "metadata": {}
        }
      ]
    },
    {
      "cell_type": "markdown",
      "source": [
        "激活函式的選擇很重要\n",
        "輸出層: 看狀況\n",
        "中間層: relu family(m=1)"
      ],
      "metadata": {
        "id": "NvB9yuQTw1sT"
      }
    },
    {
      "cell_type": "code",
      "source": [
        "# models(地基): Sequential(一層疊一層) Model(自由疊層)\n",
        "# layers: Dense(全連接層)\n",
        "from tensorflow.keras.models import Sequential\n",
        "from tensorflow.keras.layers import Dense\n",
        "layers = [\n",
        "    Dense(128, activation=\"relu\", input_dim=784),\n",
        "    Dense(10, activation=\"sigmoid\")\n",
        "]\n",
        "model = Sequential(layers)\n",
        "model.summary()"
      ],
      "metadata": {
        "colab": {
          "base_uri": "https://localhost:8080/"
        },
        "id": "IzXfUTzguz5R",
        "outputId": "b3d08947-5a25-4670-90c2-243d60911fe5"
      },
      "execution_count": 4,
      "outputs": [
        {
          "output_type": "stream",
          "name": "stdout",
          "text": [
            "Model: \"sequential\"\n",
            "_________________________________________________________________\n",
            " Layer (type)                Output Shape              Param #   \n",
            "=================================================================\n",
            " dense (Dense)               (None, 128)               100480    \n",
            "                                                                 \n",
            " dense_1 (Dense)             (None, 10)                1290      \n",
            "                                                                 \n",
            "=================================================================\n",
            "Total params: 101,770\n",
            "Trainable params: 101,770\n",
            "Non-trainable params: 0\n",
            "_________________________________________________________________\n"
          ]
        }
      ]
    },
    {
      "cell_type": "markdown",
      "source": [
        "$ p_i = 正確答案 $\n",
        "\n",
        "$ q_i = 預測值 $\n",
        "\n",
        "$ categoricalcrossentropy(標準ce) = \\sum p_ilog\\frac 1q_i  $\n",
        "\n",
        "如果你最後輸出只有一個的時候你要使用 BinaryCrossentropy\n",
        "\n",
        "因為你輸出的q -> q: 1這種東西 (1-q): 另外一種東西\n",
        "\n",
        "$ binarycrossentropy = plog\\frac 1q+(1-p)log\\frac11-q $"
      ],
      "metadata": {
        "id": "_Zswzv1sz7Fd"
      }
    },
    {
      "cell_type": "code",
      "source": [
        "model.compile(loss=\"mse\", metrics=[\"accuracy\"])"
      ],
      "metadata": {
        "id": "rsAxwsd1-jGs"
      },
      "execution_count": 5,
      "outputs": []
    },
    {
      "cell_type": "code",
      "source": [
        "# y\n",
        "from tensorflow.keras.utils import to_categorical\n",
        "y_train_cat = to_categorical(y_train, num_classes=10)\n",
        "y_test_cat = to_categorical(y_test, num_classes=10)\n",
        "print(y_train[0])\n",
        "print(y_train_cat[0])"
      ],
      "metadata": {
        "colab": {
          "base_uri": "https://localhost:8080/"
        },
        "id": "_RD-aeWc-uYC",
        "outputId": "81e6cc07-4398-44ab-f326-91123681b9fa"
      },
      "execution_count": 6,
      "outputs": [
        {
          "output_type": "stream",
          "name": "stdout",
          "text": [
            "5\n",
            "[0. 0. 0. 0. 0. 1. 0. 0. 0. 0.]\n"
          ]
        }
      ]
    },
    {
      "cell_type": "code",
      "source": [
        "import numpy as np\n",
        "# tensorflow建議: x(0~1) x(-1~1)\n",
        "# tensorflow隨機的weight有配合\n",
        "# reshape你可以把一個位置替換成-1(讓他自己算)\n",
        "# x_train.reshape(60000, 784)\n",
        "x_train_norm = x_train.reshape(-1, 784)\n",
        "x_test_norm = x_test.reshape(-1, 784)\n",
        "print(x_train_norm.shape)\n",
        "print(x_test_norm.shape)"
      ],
      "metadata": {
        "colab": {
          "base_uri": "https://localhost:8080/"
        },
        "id": "6YuZZ2Bk_JeY",
        "outputId": "75d4ad65-1d2d-4419-cc89-a67638fa3f81"
      },
      "execution_count": 7,
      "outputs": [
        {
          "output_type": "stream",
          "name": "stdout",
          "text": [
            "(60000, 784)\n",
            "(10000, 784)\n"
          ]
        }
      ]
    },
    {
      "cell_type": "code",
      "source": [
        "# epochs: 決定要把整份資料看過幾輪\n",
        "# 絕對不是越多越好, 越多越過擬和, 反而導致現實資料錯更多\n",
        "# validation_split: 擬要切出一部分不給模型看, 來驗證這組參數表現得如何\n",
        "# 一輪: 54000(90%) / 100 -> 540\n",
        "# 10 epochs: 540 * 10\n",
        "from tensorflow.keras.callbacks import EarlyStopping, ModelCheckpoint\n",
        "c = [\n",
        "    ModelCheckpoint(\"mnist.h5\", save_best_only=True),\n",
        "    EarlyStopping(patience=5, restore_best_weights=True)\n",
        "]\n",
        "model.fit(x_train_norm,\n",
        "     y_train_cat,\n",
        "     batch_size=100,\n",
        "     epochs=40,\n",
        "     validation_split=0.1,\n",
        "     callbacks=c)"
      ],
      "metadata": {
        "colab": {
          "base_uri": "https://localhost:8080/"
        },
        "id": "gPiB83wD-2KB",
        "outputId": "96cb826b-ab58-4343-e61a-40374c05a3b5"
      },
      "execution_count": 8,
      "outputs": [
        {
          "output_type": "stream",
          "name": "stdout",
          "text": [
            "Epoch 1/40\n",
            "540/540 [==============================] - 4s 7ms/step - loss: 0.0904 - accuracy: 0.2087 - val_loss: 0.0776 - val_accuracy: 0.2747\n",
            "Epoch 2/40\n",
            "540/540 [==============================] - 3s 5ms/step - loss: 0.0767 - accuracy: 0.3031 - val_loss: 0.0748 - val_accuracy: 0.3113\n",
            "Epoch 3/40\n",
            "540/540 [==============================] - 2s 4ms/step - loss: 0.0738 - accuracy: 0.3140 - val_loss: 0.0719 - val_accuracy: 0.3112\n",
            "Epoch 4/40\n",
            "540/540 [==============================] - 3s 5ms/step - loss: 0.0721 - accuracy: 0.3224 - val_loss: 0.0704 - val_accuracy: 0.3302\n",
            "Epoch 5/40\n",
            "540/540 [==============================] - 2s 5ms/step - loss: 0.0713 - accuracy: 0.3282 - val_loss: 0.0687 - val_accuracy: 0.3400\n",
            "Epoch 6/40\n",
            "540/540 [==============================] - 4s 7ms/step - loss: 0.0704 - accuracy: 0.3360 - val_loss: 0.0715 - val_accuracy: 0.3227\n",
            "Epoch 7/40\n",
            "540/540 [==============================] - 2s 5ms/step - loss: 0.0699 - accuracy: 0.3407 - val_loss: 0.0689 - val_accuracy: 0.3375\n",
            "Epoch 8/40\n",
            "540/540 [==============================] - 3s 5ms/step - loss: 0.0694 - accuracy: 0.3440 - val_loss: 0.0682 - val_accuracy: 0.3397\n",
            "Epoch 9/40\n",
            "540/540 [==============================] - 2s 4ms/step - loss: 0.0689 - accuracy: 0.3478 - val_loss: 0.0684 - val_accuracy: 0.3470\n",
            "Epoch 10/40\n",
            "540/540 [==============================] - 3s 5ms/step - loss: 0.0684 - accuracy: 0.3510 - val_loss: 0.0670 - val_accuracy: 0.3585\n",
            "Epoch 11/40\n",
            "540/540 [==============================] - 3s 6ms/step - loss: 0.0679 - accuracy: 0.3557 - val_loss: 0.0664 - val_accuracy: 0.3627\n",
            "Epoch 12/40\n",
            "540/540 [==============================] - 2s 5ms/step - loss: 0.0675 - accuracy: 0.3585 - val_loss: 0.0667 - val_accuracy: 0.3637\n",
            "Epoch 13/40\n",
            "540/540 [==============================] - 2s 4ms/step - loss: 0.0670 - accuracy: 0.3601 - val_loss: 0.0657 - val_accuracy: 0.3642\n",
            "Epoch 14/40\n",
            "540/540 [==============================] - 2s 4ms/step - loss: 0.0669 - accuracy: 0.3612 - val_loss: 0.0663 - val_accuracy: 0.3638\n",
            "Epoch 15/40\n",
            "540/540 [==============================] - 3s 5ms/step - loss: 0.0671 - accuracy: 0.3597 - val_loss: 0.0681 - val_accuracy: 0.3645\n",
            "Epoch 16/40\n",
            "540/540 [==============================] - 3s 6ms/step - loss: 0.0627 - accuracy: 0.4247 - val_loss: 0.0611 - val_accuracy: 0.4370\n",
            "Epoch 17/40\n",
            "540/540 [==============================] - 2s 4ms/step - loss: 0.0596 - accuracy: 0.4441 - val_loss: 0.0584 - val_accuracy: 0.4555\n",
            "Epoch 18/40\n",
            "540/540 [==============================] - 2s 4ms/step - loss: 0.0600 - accuracy: 0.4421 - val_loss: 0.0582 - val_accuracy: 0.4462\n",
            "Epoch 19/40\n",
            "540/540 [==============================] - 2s 4ms/step - loss: 0.0594 - accuracy: 0.4461 - val_loss: 0.0584 - val_accuracy: 0.4517\n",
            "Epoch 20/40\n",
            "540/540 [==============================] - 3s 6ms/step - loss: 0.0588 - accuracy: 0.4501 - val_loss: 0.0583 - val_accuracy: 0.4473\n",
            "Epoch 21/40\n",
            "540/540 [==============================] - 3s 6ms/step - loss: 0.0586 - accuracy: 0.4521 - val_loss: 0.0571 - val_accuracy: 0.4628\n",
            "Epoch 22/40\n",
            "540/540 [==============================] - 2s 4ms/step - loss: 0.0580 - accuracy: 0.4537 - val_loss: 0.0562 - val_accuracy: 0.4632\n",
            "Epoch 23/40\n",
            "540/540 [==============================] - 2s 4ms/step - loss: 0.0579 - accuracy: 0.4564 - val_loss: 0.0570 - val_accuracy: 0.4592\n",
            "Epoch 24/40\n",
            "540/540 [==============================] - 2s 4ms/step - loss: 0.0579 - accuracy: 0.4550 - val_loss: 0.0560 - val_accuracy: 0.4673\n",
            "Epoch 25/40\n",
            "540/540 [==============================] - 3s 6ms/step - loss: 0.0576 - accuracy: 0.4578 - val_loss: 0.0557 - val_accuracy: 0.4657\n",
            "Epoch 26/40\n",
            "540/540 [==============================] - 3s 5ms/step - loss: 0.0573 - accuracy: 0.4578 - val_loss: 0.0555 - val_accuracy: 0.4687\n",
            "Epoch 27/40\n",
            "540/540 [==============================] - 2s 4ms/step - loss: 0.0571 - accuracy: 0.4568 - val_loss: 0.0569 - val_accuracy: 0.4547\n",
            "Epoch 28/40\n",
            "540/540 [==============================] - 2s 4ms/step - loss: 0.0571 - accuracy: 0.4581 - val_loss: 0.0558 - val_accuracy: 0.4675\n",
            "Epoch 29/40\n",
            "540/540 [==============================] - 2s 4ms/step - loss: 0.0572 - accuracy: 0.4599 - val_loss: 0.0559 - val_accuracy: 0.4680\n",
            "Epoch 30/40\n",
            "540/540 [==============================] - 3s 6ms/step - loss: 0.0569 - accuracy: 0.4594 - val_loss: 0.0552 - val_accuracy: 0.4673\n",
            "Epoch 31/40\n",
            "540/540 [==============================] - 3s 5ms/step - loss: 0.0568 - accuracy: 0.4625 - val_loss: 0.0555 - val_accuracy: 0.4678\n",
            "Epoch 32/40\n",
            "540/540 [==============================] - 2s 4ms/step - loss: 0.0565 - accuracy: 0.4630 - val_loss: 0.0552 - val_accuracy: 0.4683\n",
            "Epoch 33/40\n",
            "540/540 [==============================] - 2s 4ms/step - loss: 0.0564 - accuracy: 0.4631 - val_loss: 0.0554 - val_accuracy: 0.4675\n",
            "Epoch 34/40\n",
            "540/540 [==============================] - 2s 4ms/step - loss: 0.0562 - accuracy: 0.4626 - val_loss: 0.0549 - val_accuracy: 0.4687\n",
            "Epoch 35/40\n",
            "540/540 [==============================] - 3s 6ms/step - loss: 0.0563 - accuracy: 0.4646 - val_loss: 0.0554 - val_accuracy: 0.4698\n",
            "Epoch 36/40\n",
            "540/540 [==============================] - 3s 5ms/step - loss: 0.0559 - accuracy: 0.4648 - val_loss: 0.0552 - val_accuracy: 0.4737\n",
            "Epoch 37/40\n",
            "540/540 [==============================] - 2s 4ms/step - loss: 0.0559 - accuracy: 0.4642 - val_loss: 0.0546 - val_accuracy: 0.4735\n",
            "Epoch 38/40\n",
            "540/540 [==============================] - 2s 4ms/step - loss: 0.0560 - accuracy: 0.4656 - val_loss: 0.0547 - val_accuracy: 0.4742\n",
            "Epoch 39/40\n",
            "540/540 [==============================] - 2s 5ms/step - loss: 0.0557 - accuracy: 0.4664 - val_loss: 0.0546 - val_accuracy: 0.4740\n",
            "Epoch 40/40\n",
            "540/540 [==============================] - 3s 6ms/step - loss: 0.0555 - accuracy: 0.4664 - val_loss: 0.0547 - val_accuracy: 0.4717\n"
          ]
        },
        {
          "output_type": "execute_result",
          "data": {
            "text/plain": [
              "<keras.callbacks.History at 0x7f1710f62f70>"
            ]
          },
          "metadata": {},
          "execution_count": 8
        }
      ]
    },
    {
      "cell_type": "code",
      "source": [
        "# import math\n",
        "# cases = [\n",
        "#     (0.9999, 0.0001),\n",
        "#     (0.5, 0.5),\n",
        "#     (0.0001, 0.9999),\n",
        "#     (0.6, 0.4)\n",
        "# ]\n",
        "# for q1, q2 in cases:\n",
        "#     ce = 0.6 * math.log(1/q1, 2) + 0.4 * math.log(1/q2, 2)\n",
        "#     print(q1, q2, \"->\", ce)"
      ],
      "metadata": {
        "id": "YAUk14NXbVBe"
      },
      "execution_count": 9,
      "outputs": []
    }
  ]
}